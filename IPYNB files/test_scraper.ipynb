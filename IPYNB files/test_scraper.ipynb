{
 "cells": [
  {
   "cell_type": "markdown",
   "id": "2127283c",
   "metadata": {},
   "source": [
    "### This scraper is for grabbing the first 1024 elements of the PROPERTY ID search with a blank string as an input.\n",
    "\n",
    "- It is only to act as a test DB until full Database is acquired.\n",
    "- Itterating over rows can be a very lengthy process so it is not for a full production environment but will serve in a pinch"
   ]
  },
  {
   "cell_type": "code",
   "execution_count": null,
   "id": "c18b0047",
   "metadata": {},
   "outputs": [],
   "source": [
    "import os\n",
    "import pandas as pd\n",
    "os.getcwd()"
   ]
  },
  {
   "cell_type": "markdown",
   "id": "b7fe97cd",
   "metadata": {},
   "source": [
    "https://smu.bootcampcontent.com/SMU-Coding-Bootcamp/smu-dal-data-pt-09-2021-u-c/-/blob/master/01-Lesson-Plans/12-Web-Scraping-and-Document-Databases/2/Activities/09-Ins_Pandas_Scraping/Solved/Ins_Pandas_Scraping.ipynb"
   ]
  },
  {
   "cell_type": "code",
   "execution_count": null,
   "id": "da6cf66c",
   "metadata": {},
   "outputs": [],
   "source": [
    "# Pandas Scrape\n",
    "\n",
    "# url with no entry in search box\n",
    "url_no_query = 'https://iswdataclient.azurewebsites.net/webSearchID.aspx?dbkey=midlandcad'\n",
    "\n",
    "# search query was blank string, not automated.\n",
    "url = 'https://iswdataclient.azurewebsites.net/webSearchID.aspx?dbkey=midlandcad&stype=id&sdata=R&time=202201100954042#top'"
   ]
  },
  {
   "cell_type": "code",
   "execution_count": null,
   "id": "00794d7d",
   "metadata": {},
   "outputs": [],
   "source": [
    "# read_html returns list of table elements\n",
    "CAD_results_list = pd.read_html(url)\n",
    "CAD_results_list"
   ]
  },
  {
   "cell_type": "markdown",
   "id": "cf55e895",
   "metadata": {},
   "source": [
    "-----------------------------"
   ]
  },
  {
   "cell_type": "markdown",
   "id": "85dcf5f4",
   "metadata": {},
   "source": [
    "### Notes:\n",
    "\n",
    "- we have domain table\n",
    "- get results for individual properties, pull values and drop to list | dictionary as needed\n",
    "- create secondary df from list of information from 'view property'link\n",
    "- merge to domain table on PROPERTY_ID\n",
    "- clean\n",
    "- save to_json('filepath.json')\n"
   ]
  },
  {
   "cell_type": "code",
   "execution_count": null,
   "id": "e4e1bc3b",
   "metadata": {},
   "outputs": [],
   "source": [
    "# set variable_df == list element corresponding to search results\n",
    "CAD_results = CAD_results_list[13]\n",
    "# extract columns to drop unnecessary colums\n",
    "CAD_df_columns = CAD_results.columns.to_list()\n",
    "CAD_df_columns"
   ]
  },
  {
   "cell_type": "code",
   "execution_count": null,
   "id": "4f9f3b13",
   "metadata": {
    "scrolled": true
   },
   "outputs": [],
   "source": [
    "#rename columns\n",
    "CAD_results = CAD_results.rename(columns={\n",
    "    'Details': 'details',\n",
    "    'Property ID': 'property_id',\n",
    "    'Geographic ID': 'geographic_id',\n",
    "    'Owner Name': 'owner_name',\n",
    "    'Address': 'address',\n",
    "    'Legal': 'legal',\n",
    "    'Market Value': 'market_value',\n",
    "    'Unnamed: 7': 'unnamed_7'\n",
    "})\n",
    "\n",
    "#drop unnecessary column(s)\n",
    "\n",
    "CAD_results = CAD_results.drop(columns=['details','unnamed_7'])\n",
    "CAD_results"
   ]
  },
  {
   "cell_type": "markdown",
   "id": "621548fb",
   "metadata": {},
   "source": [
    "### Each table element has a {key: {integer_key : value_we_want}}"
   ]
  },
  {
   "cell_type": "code",
   "execution_count": null,
   "id": "8991cad3",
   "metadata": {},
   "outputs": [],
   "source": [
    "row = CAD_results.iloc[[0]]\n",
    "row_dict = row.to_dict()\n",
    "row_dict"
   ]
  },
  {
   "cell_type": "code",
   "execution_count": null,
   "id": "37f6cbc8",
   "metadata": {},
   "outputs": [],
   "source": [
    "CAD_results.iloc[[15]]\n",
    "row_dict = row.to_dict()\n",
    "row_dict\n",
    "\n",
    "\n",
    "# key = row_dict['address'][0]\n",
    "# str(key)"
   ]
  },
  {
   "cell_type": "code",
   "execution_count": null,
   "id": "4c8523b0",
   "metadata": {},
   "outputs": [],
   "source": [
    "# save results table to json for transfer to mongoDB\n",
    "import pymongo\n",
    "\n",
    "conn = 'mongodb://localhost:27017'\n",
    "client = pymongo.MongoClient(conn)\n",
    "\n",
    "# declare Database\n",
    "db = client.CAD_search_results\n",
    "\n",
    "# declare collection(s)\n",
    "\n",
    "# collection for the results of the main search page, PROPERTY ID search\n",
    "bulk_results = db.bulk_results\n",
    "\n",
    "# collection for the \"view_property_results\" link on main search results page\n",
    "# view_property_results = db.view_property_results\n"
   ]
  },
  {
   "cell_type": "code",
   "execution_count": null,
   "id": "889e2b3b",
   "metadata": {},
   "outputs": [],
   "source": [
    "# moving index values to variable in event of repeating this search technique with more searches\n",
    "index = CAD_results.index.to_list()\n",
    "index_length = len(index)"
   ]
  },
  {
   "cell_type": "code",
   "execution_count": null,
   "id": "f7ca5aa1",
   "metadata": {},
   "outputs": [],
   "source": [
    "for i in index:\n",
    "    # row = row of index value, i\n",
    "    row = CAD_results.iloc[[i]]\n",
    "    # turns row of df into dictionary to allow to inserting to MongoDB\n",
    "    row_dict = row.to_dict()\n",
    "    clean_row = {}\n",
    "    clean_entry = {}\n",
    "    # edit the row to equal only {key:value} NOT {key:{key_2: value}}\n",
    "    clean_row['property_id']= row_dict['property_id'][i]\n",
    "    clean_row['geographic_id']= row_dict['geographic_id'][i]\n",
    "    clean_row['owner_name']= row_dict['owner_name'][i]\n",
    "    clean_row['address']= row_dict['address'][i]\n",
    "    clean_row['legal']= row_dict['legal'][i]\n",
    "    clean_row['market_value']= row_dict['market_value'][i]\n",
    "    key = row_dict['address'][i]\n",
    "    if key == 'nan':\n",
    "        print('key is nan')\n",
    "    \n",
    "    \n",
    "#     try:\n",
    "\n",
    "#         clean_entry[key]= clean_row\n",
    "\n",
    "#         bulk_results.insert_one(clean_entry)\n",
    "#         print()\n",
    "#         print(f'Row {i} saved to \"bulk_results\" in MongoDB')\n",
    "#         print('-----------------------------------')\n",
    "        \n",
    "#     except InvalidDocument as error:\n",
    "#         print('skipping')\n",
    "\n"
   ]
  },
  {
   "cell_type": "markdown",
   "id": "f20808ad",
   "metadata": {},
   "source": [
    "## Verify data integrity by importing documents as DataFrame."
   ]
  },
  {
   "cell_type": "code",
   "execution_count": null,
   "id": "75b2dfee",
   "metadata": {},
   "outputs": [],
   "source": [
    "doc_list = []\n",
    "\n",
    "conn = 'mongodb://localhost:27017'\n",
    "client = pymongo.MongoClient(conn)\n",
    "\n",
    "# declare Database\n",
    "db = client.CAD_search_results\n",
    "\n",
    "# declare collection(s)\n",
    "\n",
    "# collection for the results of the main search page, PROPERTY ID search\n",
    "bulk_results = db.bulk_results\n",
    "\n",
    "# collection for the \"view_property_results\" link on main search results page\n",
    "view_property_results = db.view_property_results\n",
    "\n",
    "# declare the collections\n",
    "\n",
    "collection = bulk_results\n",
    "\n",
    "# pull al documents from collection specified above\n",
    "documents = collection.find()\n",
    "for doc in documents:\n",
    "    # move each doc as dictionary to list to create a list of dictionaries\n",
    "    doc_list.append(doc)"
   ]
  },
  {
   "cell_type": "code",
   "execution_count": null,
   "id": "6a5c511c",
   "metadata": {
    "scrolled": true
   },
   "outputs": [],
   "source": [
    "# read list of dictionaries (doc_list) as DataFrame\n",
    "\n",
    "bulk_results_df = pd.DataFrame(doc_list)\n",
    "\n",
    "# drop _id column, keep everything else.\n",
    "bulk_results_df = bulk_results_df.drop(columns=['_id'])\n",
    "\n",
    "# display results to verify integrity of data.\n",
    "bulk_results_df"
   ]
  },
  {
   "cell_type": "code",
   "execution_count": null,
   "id": "d9d0ffa4",
   "metadata": {},
   "outputs": [],
   "source": [
    "# save results table to json format to create a back up of database collection.\n",
    "bulk_results_df.to_json('..\\\\raw_data\\\\test_dataframe.json')\n"
   ]
  },
  {
   "cell_type": "code",
   "execution_count": null,
   "id": "22c6a9f7",
   "metadata": {},
   "outputs": [],
   "source": []
  }
 ],
 "metadata": {
  "kernelspec": {
   "display_name": "Python 3",
   "language": "python",
   "name": "python3"
  },
  "language_info": {
   "codemirror_mode": {
    "name": "ipython",
    "version": 3
   },
   "file_extension": ".py",
   "mimetype": "text/x-python",
   "name": "python",
   "nbconvert_exporter": "python",
   "pygments_lexer": "ipython3",
   "version": "3.8.8"
  }
 },
 "nbformat": 4,
 "nbformat_minor": 5
}
